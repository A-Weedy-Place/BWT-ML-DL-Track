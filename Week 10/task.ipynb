{
 "cells": [
  {
   "cell_type": "markdown",
   "metadata": {},
   "source": [
    "# PART 1"
   ]
  },
  {
   "cell_type": "markdown",
   "metadata": {},
   "source": [
    "## 1.Understanding RNN"
   ]
  },
  {
   "cell_type": "markdown",
   "metadata": {},
   "source": [
    "### Question: What are Recurrent Neural Networks, and how do they differ from traditional feedforward neural networks?"
   ]
  },
  {
   "cell_type": "markdown",
   "metadata": {},
   "source": [
    "RNNs are a type of neural network designed for sequence data (like time series or text). They remember past information to make decisions.\n",
    "\n",
    "\n",
    "Difference from Feedforward Networks: \\\n",
    "Traditional neural networks (feedforward) just process inputs one by one without memory. RNNs have loops, allowing them to keep information from previous inputs. (Recurrusion)"
   ]
  },
  {
   "cell_type": "markdown",
   "metadata": {},
   "source": [
    "### Task: Explain the working of RNN, and how information is passed through the network over time."
   ]
  },
  {
   "cell_type": "markdown",
   "metadata": {},
   "source": [
    "- At each step, RNN takes an input and combines it with the hidden state (memory of the past). \n",
    "- This combination is passed through a layer to produce the output and update the hidden state. \n",
    "- The updated hidden state is passed on to the next step, so NN remembers previoous inputs. \\\n",
    "\n",
    "info is passed by:\n",
    "- The hidden state carries the memory of what has been seen so far.\n",
    "- As new inputs come in, the hidden state gets updated, so the network is \"learning\" as it processes the sequence."
   ]
  }
 ],
 "metadata": {
  "language_info": {
   "name": "python"
  }
 },
 "nbformat": 4,
 "nbformat_minor": 2
}
